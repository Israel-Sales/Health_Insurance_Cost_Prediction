{
 "cells": [
  {
   "cell_type": "markdown",
   "metadata": {},
   "source": [
    "*** Plano de Negócio ***\n",
    "\n",
    "Desenvolvimento de uma metodologia para predição de valor do plano\n",
    "de saúde para seus beneficiários."
   ]
  },
  {
   "cell_type": "code",
   "execution_count": 1,
   "metadata": {},
   "outputs": [
    {
     "name": "stderr",
     "output_type": "stream",
     "text": [
      "e:\\GITHUB\\datascience\\Health_Insurance_Cost\\virtual\\lib\\site-packages\\tqdm\\auto.py:22: TqdmWarning: IProgress not found. Please update jupyter and ipywidgets. See https://ipywidgets.readthedocs.io/en/stable/user_install.html\n",
      "  from .autonotebook import tqdm as notebook_tqdm\n"
     ]
    }
   ],
   "source": [
    "#Importing Libraries\n",
    "\n",
    "import matplotlib.pyplot as plt\n",
    "import numpy as np\n",
    "import pandas as pd\n",
    "import seaborn as sns\n",
    "import sweetviz as sv"
   ]
  },
  {
   "cell_type": "markdown",
   "metadata": {},
   "source": [
    "*** ANÁLISE EXPLORATÓRIA ***\n",
    "Arquivo: Train_Data.csv"
   ]
  },
  {
   "cell_type": "code",
   "execution_count": 2,
   "metadata": {},
   "outputs": [
    {
     "data": {
      "text/html": [
       "<div>\n",
       "<style scoped>\n",
       "    .dataframe tbody tr th:only-of-type {\n",
       "        vertical-align: middle;\n",
       "    }\n",
       "\n",
       "    .dataframe tbody tr th {\n",
       "        vertical-align: top;\n",
       "    }\n",
       "\n",
       "    .dataframe thead th {\n",
       "        text-align: right;\n",
       "    }\n",
       "</style>\n",
       "<table border=\"1\" class=\"dataframe\">\n",
       "  <thead>\n",
       "    <tr style=\"text-align: right;\">\n",
       "      <th></th>\n",
       "      <th>age</th>\n",
       "      <th>sex</th>\n",
       "      <th>bmi</th>\n",
       "      <th>smoker</th>\n",
       "      <th>region</th>\n",
       "      <th>children</th>\n",
       "      <th>charges</th>\n",
       "    </tr>\n",
       "  </thead>\n",
       "  <tbody>\n",
       "    <tr>\n",
       "      <th>0</th>\n",
       "      <td>21.000000</td>\n",
       "      <td>male</td>\n",
       "      <td>25.745000</td>\n",
       "      <td>no</td>\n",
       "      <td>northeast</td>\n",
       "      <td>2</td>\n",
       "      <td>3279.868550</td>\n",
       "    </tr>\n",
       "    <tr>\n",
       "      <th>1</th>\n",
       "      <td>36.976978</td>\n",
       "      <td>female</td>\n",
       "      <td>25.744165</td>\n",
       "      <td>yes</td>\n",
       "      <td>southeast</td>\n",
       "      <td>3</td>\n",
       "      <td>21454.494239</td>\n",
       "    </tr>\n",
       "    <tr>\n",
       "      <th>2</th>\n",
       "      <td>18.000000</td>\n",
       "      <td>male</td>\n",
       "      <td>30.030000</td>\n",
       "      <td>no</td>\n",
       "      <td>southeast</td>\n",
       "      <td>1</td>\n",
       "      <td>1720.353700</td>\n",
       "    </tr>\n",
       "    <tr>\n",
       "      <th>3</th>\n",
       "      <td>37.000000</td>\n",
       "      <td>male</td>\n",
       "      <td>30.676891</td>\n",
       "      <td>no</td>\n",
       "      <td>northeast</td>\n",
       "      <td>3</td>\n",
       "      <td>6801.437542</td>\n",
       "    </tr>\n",
       "    <tr>\n",
       "      <th>4</th>\n",
       "      <td>58.000000</td>\n",
       "      <td>male</td>\n",
       "      <td>32.010000</td>\n",
       "      <td>no</td>\n",
       "      <td>southeast</td>\n",
       "      <td>1</td>\n",
       "      <td>11946.625900</td>\n",
       "    </tr>\n",
       "  </tbody>\n",
       "</table>\n",
       "</div>"
      ],
      "text/plain": [
       "         age     sex        bmi smoker     region  children       charges\n",
       "0  21.000000    male  25.745000     no  northeast         2   3279.868550\n",
       "1  36.976978  female  25.744165    yes  southeast         3  21454.494239\n",
       "2  18.000000    male  30.030000     no  southeast         1   1720.353700\n",
       "3  37.000000    male  30.676891     no  northeast         3   6801.437542\n",
       "4  58.000000    male  32.010000     no  southeast         1  11946.625900"
      ]
     },
     "execution_count": 2,
     "metadata": {},
     "output_type": "execute_result"
    }
   ],
   "source": [
    "#Loading Train dataset\n",
    "train_data = pd.read_csv(\"Train_Data.csv\")\n",
    "\n",
    "#Top 5 records\n",
    "train_data.head()\n"
   ]
  },
  {
   "cell_type": "code",
   "execution_count": 3,
   "metadata": {},
   "outputs": [
    {
     "data": {
      "text/plain": [
       "(3630, 7)"
      ]
     },
     "execution_count": 3,
     "metadata": {},
     "output_type": "execute_result"
    }
   ],
   "source": [
    "train_data.shape\n"
   ]
  },
  {
   "cell_type": "code",
   "execution_count": 4,
   "metadata": {},
   "outputs": [
    {
     "data": {
      "text/plain": [
       "age         0\n",
       "sex         0\n",
       "bmi         0\n",
       "smoker      0\n",
       "region      0\n",
       "children    0\n",
       "charges     0\n",
       "dtype: int64"
      ]
     },
     "execution_count": 4,
     "metadata": {},
     "output_type": "execute_result"
    }
   ],
   "source": [
    "#Shape of dataset\n",
    "\n",
    "train_data.isnull().sum()\n"
   ]
  },
  {
   "cell_type": "code",
   "execution_count": 5,
   "metadata": {},
   "outputs": [
    {
     "name": "stdout",
     "output_type": "stream",
     "text": [
      "<class 'pandas.core.frame.DataFrame'>\n",
      "RangeIndex: 3630 entries, 0 to 3629\n",
      "Data columns (total 7 columns):\n",
      " #   Column    Non-Null Count  Dtype  \n",
      "---  ------    --------------  -----  \n",
      " 0   age       3630 non-null   float64\n",
      " 1   sex       3630 non-null   object \n",
      " 2   bmi       3630 non-null   float64\n",
      " 3   smoker    3630 non-null   object \n",
      " 4   region    3630 non-null   object \n",
      " 5   children  3630 non-null   int64  \n",
      " 6   charges   3630 non-null   float64\n",
      "dtypes: float64(3), int64(1), object(3)\n",
      "memory usage: 198.6+ KB\n"
     ]
    }
   ],
   "source": [
    "#Insights of data\n",
    "train_data.info()"
   ]
  },
  {
   "cell_type": "code",
   "execution_count": 6,
   "metadata": {},
   "outputs": [
    {
     "data": {
      "text/html": [
       "<div>\n",
       "<style scoped>\n",
       "    .dataframe tbody tr th:only-of-type {\n",
       "        vertical-align: middle;\n",
       "    }\n",
       "\n",
       "    .dataframe tbody tr th {\n",
       "        vertical-align: top;\n",
       "    }\n",
       "\n",
       "    .dataframe thead th {\n",
       "        text-align: right;\n",
       "    }\n",
       "</style>\n",
       "<table border=\"1\" class=\"dataframe\">\n",
       "  <thead>\n",
       "    <tr style=\"text-align: right;\">\n",
       "      <th></th>\n",
       "      <th>age</th>\n",
       "      <th>bmi</th>\n",
       "      <th>children</th>\n",
       "      <th>charges</th>\n",
       "    </tr>\n",
       "  </thead>\n",
       "  <tbody>\n",
       "    <tr>\n",
       "      <th>count</th>\n",
       "      <td>3630.000000</td>\n",
       "      <td>3630.000000</td>\n",
       "      <td>3630.000000</td>\n",
       "      <td>3630.000000</td>\n",
       "    </tr>\n",
       "    <tr>\n",
       "      <th>mean</th>\n",
       "      <td>38.887036</td>\n",
       "      <td>30.629652</td>\n",
       "      <td>2.503581</td>\n",
       "      <td>12784.808644</td>\n",
       "    </tr>\n",
       "    <tr>\n",
       "      <th>std</th>\n",
       "      <td>12.151029</td>\n",
       "      <td>5.441307</td>\n",
       "      <td>1.712568</td>\n",
       "      <td>10746.166743</td>\n",
       "    </tr>\n",
       "    <tr>\n",
       "      <th>min</th>\n",
       "      <td>18.000000</td>\n",
       "      <td>15.960000</td>\n",
       "      <td>0.000000</td>\n",
       "      <td>1121.873900</td>\n",
       "    </tr>\n",
       "    <tr>\n",
       "      <th>25%</th>\n",
       "      <td>29.000000</td>\n",
       "      <td>26.694526</td>\n",
       "      <td>1.000000</td>\n",
       "      <td>5654.818262</td>\n",
       "    </tr>\n",
       "    <tr>\n",
       "      <th>50%</th>\n",
       "      <td>39.170922</td>\n",
       "      <td>30.200000</td>\n",
       "      <td>3.000000</td>\n",
       "      <td>9443.807222</td>\n",
       "    </tr>\n",
       "    <tr>\n",
       "      <th>75%</th>\n",
       "      <td>48.343281</td>\n",
       "      <td>34.100000</td>\n",
       "      <td>4.000000</td>\n",
       "      <td>14680.407505</td>\n",
       "    </tr>\n",
       "    <tr>\n",
       "      <th>max</th>\n",
       "      <td>64.000000</td>\n",
       "      <td>53.130000</td>\n",
       "      <td>5.000000</td>\n",
       "      <td>63770.428010</td>\n",
       "    </tr>\n",
       "  </tbody>\n",
       "</table>\n",
       "</div>"
      ],
      "text/plain": [
       "               age          bmi     children       charges\n",
       "count  3630.000000  3630.000000  3630.000000   3630.000000\n",
       "mean     38.887036    30.629652     2.503581  12784.808644\n",
       "std      12.151029     5.441307     1.712568  10746.166743\n",
       "min      18.000000    15.960000     0.000000   1121.873900\n",
       "25%      29.000000    26.694526     1.000000   5654.818262\n",
       "50%      39.170922    30.200000     3.000000   9443.807222\n",
       "75%      48.343281    34.100000     4.000000  14680.407505\n",
       "max      64.000000    53.130000     5.000000  63770.428010"
      ]
     },
     "execution_count": 6,
     "metadata": {},
     "output_type": "execute_result"
    }
   ],
   "source": [
    "#Numerical Description of dataset\n",
    "train_data.describe()\n"
   ]
  },
  {
   "cell_type": "code",
   "execution_count": 7,
   "metadata": {},
   "outputs": [
    {
     "data": {
      "text/html": [
       "<div>\n",
       "<style scoped>\n",
       "    .dataframe tbody tr th:only-of-type {\n",
       "        vertical-align: middle;\n",
       "    }\n",
       "\n",
       "    .dataframe tbody tr th {\n",
       "        vertical-align: top;\n",
       "    }\n",
       "\n",
       "    .dataframe thead th {\n",
       "        text-align: right;\n",
       "    }\n",
       "</style>\n",
       "<table border=\"1\" class=\"dataframe\">\n",
       "  <thead>\n",
       "    <tr style=\"text-align: right;\">\n",
       "      <th></th>\n",
       "      <th>sex</th>\n",
       "      <th>smoker</th>\n",
       "      <th>region</th>\n",
       "    </tr>\n",
       "  </thead>\n",
       "  <tbody>\n",
       "    <tr>\n",
       "      <th>count</th>\n",
       "      <td>3630</td>\n",
       "      <td>3630</td>\n",
       "      <td>3630</td>\n",
       "    </tr>\n",
       "    <tr>\n",
       "      <th>unique</th>\n",
       "      <td>2</td>\n",
       "      <td>2</td>\n",
       "      <td>4</td>\n",
       "    </tr>\n",
       "    <tr>\n",
       "      <th>top</th>\n",
       "      <td>male</td>\n",
       "      <td>no</td>\n",
       "      <td>southeast</td>\n",
       "    </tr>\n",
       "    <tr>\n",
       "      <th>freq</th>\n",
       "      <td>2029</td>\n",
       "      <td>3070</td>\n",
       "      <td>1021</td>\n",
       "    </tr>\n",
       "  </tbody>\n",
       "</table>\n",
       "</div>"
      ],
      "text/plain": [
       "         sex smoker     region\n",
       "count   3630   3630       3630\n",
       "unique     2      2          4\n",
       "top     male     no  southeast\n",
       "freq    2029   3070       1021"
      ]
     },
     "execution_count": 7,
     "metadata": {},
     "output_type": "execute_result"
    }
   ],
   "source": [
    "#Categorical Description of dataset\n",
    "train_data.describe(include=['O'])\n"
   ]
  },
  {
   "cell_type": "code",
   "execution_count": 8,
   "metadata": {},
   "outputs": [
    {
     "data": {
      "image/png": "[encoded data removed]",
      "text/plain": [
       "<Figure size 720x360 with 1 Axes>"
      ]
     },
     "metadata": {
      "needs_background": "light"
     },
     "output_type": "display_data"
    }
   ],
   "source": [
    "#Histogram of medical insurance charges\n",
    "plt.figure(figsize=(10,5))\n",
    "sns.histplot(train_data['charges'], kde=True)\n",
    "plt.title('Despesas com Plano de Saúde', fontsize=20)\n",
    "plt.show();"
   ]
  },
  {
   "cell_type": "code",
   "execution_count": 9,
   "metadata": {},
   "outputs": [
    {
     "name": "stderr",
     "output_type": "stream",
     "text": [
      "e:\\GITHUB\\datascience\\Health_Insurance_Cost\\virtual\\lib\\site-packages\\seaborn\\_decorators.py:36: FutureWarning: Pass the following variable as a keyword arg: x. From version 0.12, the only valid positional argument will be `data`, and passing other arguments without an explicit keyword will result in an error or misinterpretation.\n",
      "  warnings.warn(\n"
     ]
    },
    {
     "data": {
      "image/png": "[encoded data removed]",
      "text/plain": [
       "<Figure size 720x360 with 1 Axes>"
      ]
     },
     "metadata": {
      "needs_background": "light"
     },
     "output_type": "display_data"
    }
   ],
   "source": [
    "#Boxplot of Medical Insurance Charges\n",
    "plt.figure(figsize=(10,5))\n",
    "sns.boxplot(train_data['charges'])\n",
    "plt.title('Despesas com Plano de Saúde (Boxplot)', fontsize=20)\n",
    "plt.show();"
   ]
  },
  {
   "cell_type": "code",
   "execution_count": 10,
   "metadata": {},
   "outputs": [
    {
     "data": {
      "image/png": "[encoded data removed]",
      "text/plain": [
       "<Figure size 720x360 with 1 Axes>"
      ]
     },
     "metadata": {
      "needs_background": "light"
     },
     "output_type": "display_data"
    }
   ],
   "source": [
    "#Histogram of medical insurance age\n",
    "plt.figure(figsize=(10,5))\n",
    "sns.histplot(train_data['age'], kde=True)\n",
    "plt.title('Idade', fontsize=20)\n",
    "plt.show();"
   ]
  },
  {
   "cell_type": "code",
   "execution_count": 11,
   "metadata": {},
   "outputs": [
    {
     "name": "stderr",
     "output_type": "stream",
     "text": [
      "e:\\GITHUB\\datascience\\Health_Insurance_Cost\\virtual\\lib\\site-packages\\seaborn\\_decorators.py:36: FutureWarning: Pass the following variable as a keyword arg: x. From version 0.12, the only valid positional argument will be `data`, and passing other arguments without an explicit keyword will result in an error or misinterpretation.\n",
      "  warnings.warn(\n"
     ]
    },
    {
     "data": {
      "image/png": "[encoded data removed]",
      "text/plain": [
       "<Figure size 720x360 with 1 Axes>"
      ]
     },
     "metadata": {
      "needs_background": "light"
     },
     "output_type": "display_data"
    }
   ],
   "source": [
    "#Boxplot of Medical Insurance age\n",
    "plt.figure(figsize=(10,5))\n",
    "sns.boxplot(train_data['age'])\n",
    "plt.title('Idade (Boxplot)', fontsize=20)\n",
    "plt.show();"
   ]
  },
  {
   "cell_type": "code",
   "execution_count": 12,
   "metadata": {},
   "outputs": [
    {
     "data": {
      "image/png": "[encoded data removed]",
      "text/plain": [
       "<Figure size 720x360 with 1 Axes>"
      ]
     },
     "metadata": {
      "needs_background": "light"
     },
     "output_type": "display_data"
    }
   ],
   "source": [
    "#Histogram of medical insurance BMI\n",
    "plt.figure(figsize=(10,5))\n",
    "sns.histplot(train_data['bmi'], kde=True)\n",
    "plt.title('Massa Corporea', fontsize=20)\n",
    "plt.show();"
   ]
  },
  {
   "cell_type": "code",
   "execution_count": 13,
   "metadata": {},
   "outputs": [
    {
     "name": "stderr",
     "output_type": "stream",
     "text": [
      "e:\\GITHUB\\datascience\\Health_Insurance_Cost\\virtual\\lib\\site-packages\\seaborn\\_decorators.py:36: FutureWarning: Pass the following variable as a keyword arg: x. From version 0.12, the only valid positional argument will be `data`, and passing other arguments without an explicit keyword will result in an error or misinterpretation.\n",
      "  warnings.warn(\n"
     ]
    },
    {
     "data": {
      "image/png": "[encoded data removed]",
      "text/plain": [
       "<Figure size 720x360 with 1 Axes>"
      ]
     },
     "metadata": {
      "needs_background": "light"
     },
     "output_type": "display_data"
    }
   ],
   "source": [
    "#Boxplot of Medical Insurance age\n",
    "plt.figure(figsize=(10,5))\n",
    "sns.boxplot(train_data['bmi'])\n",
    "plt.title('Massa Corporea (Boxplot)', fontsize=20)\n",
    "plt.show();"
   ]
  },
  {
   "cell_type": "code",
   "execution_count": 14,
   "metadata": {},
   "outputs": [
    {
     "data": {
      "image/png": "[encoded data removed]",
      "text/plain": [
       "<Figure size 720x360 with 1 Axes>"
      ]
     },
     "metadata": {
      "needs_background": "light"
     },
     "output_type": "display_data"
    }
   ],
   "source": [
    "#Histogram of medical insurance Childrens\n",
    "plt.figure(figsize=(10,5))\n",
    "sns.histplot(train_data['children'], kde=True)\n",
    "plt.title('Filhos', fontsize=20)\n",
    "plt.show();"
   ]
  },
  {
   "cell_type": "code",
   "execution_count": 15,
   "metadata": {},
   "outputs": [
    {
     "name": "stderr",
     "output_type": "stream",
     "text": [
      "e:\\GITHUB\\datascience\\Health_Insurance_Cost\\virtual\\lib\\site-packages\\seaborn\\_decorators.py:36: FutureWarning: Pass the following variable as a keyword arg: x. From version 0.12, the only valid positional argument will be `data`, and passing other arguments without an explicit keyword will result in an error or misinterpretation.\n",
      "  warnings.warn(\n"
     ]
    },
    {
     "data": {
      "image/png": "[encoded data removed]",
      "text/plain": [
       "<Figure size 720x360 with 1 Axes>"
      ]
     },
     "metadata": {
      "needs_background": "light"
     },
     "output_type": "display_data"
    }
   ],
   "source": [
    "#Boxplot of Medical Insurance Childrens\n",
    "plt.figure(figsize=(10,5))\n",
    "sns.boxplot(train_data['children'])\n",
    "plt.title('Filhos (Boxplot)', fontsize=20)\n",
    "plt.show();"
   ]
  },
  {
   "cell_type": "code",
   "execution_count": 16,
   "metadata": {},
   "outputs": [
    {
     "name": "stdout",
     "output_type": "stream",
     "text": [
      "Male    : 2029\n",
      "Female  : 1601\n"
     ]
    },
    {
     "name": "stderr",
     "output_type": "stream",
     "text": [
      "e:\\GITHUB\\datascience\\Health_Insurance_Cost\\virtual\\lib\\site-packages\\seaborn\\_decorators.py:36: FutureWarning: Pass the following variable as a keyword arg: x. From version 0.12, the only valid positional argument will be `data`, and passing other arguments without an explicit keyword will result in an error or misinterpretation.\n",
      "  warnings.warn(\n"
     ]
    },
    {
     "data": {
      "image/png": "[encoded data removed]",
      "text/plain": [
       "<Figure size 720x360 with 1 Axes>"
      ]
     },
     "metadata": {
      "needs_background": "light"
     },
     "output_type": "display_data"
    }
   ],
   "source": [
    "print(\"Male    :\", train_data['sex'].value_counts()[0])\n",
    "print(\"Female  :\", train_data['sex'].value_counts()[1])\n",
    "\n",
    "plt.figure(figsize=(10,5))\n",
    "sns.countplot(train_data['sex'])\n",
    "plt.title(\"Sexo\", fontsize=20)\n",
    "plt.show();\n"
   ]
  },
  {
   "cell_type": "code",
   "execution_count": 17,
   "metadata": {},
   "outputs": [
    {
     "name": "stderr",
     "output_type": "stream",
     "text": [
      "e:\\GITHUB\\datascience\\Health_Insurance_Cost\\virtual\\lib\\site-packages\\seaborn\\_decorators.py:36: FutureWarning: Pass the following variable as a keyword arg: x. From version 0.12, the only valid positional argument will be `data`, and passing other arguments without an explicit keyword will result in an error or misinterpretation.\n",
      "  warnings.warn(\n"
     ]
    },
    {
     "name": "stdout",
     "output_type": "stream",
     "text": [
      "Smokers      : 560\n",
      "Non-Smokers  : 3070\n"
     ]
    },
    {
     "data": {
      "image/png": "[encoded data removed]",
      "text/plain": [
       "<Figure size 720x360 with 1 Axes>"
      ]
     },
     "metadata": {
      "needs_background": "light"
     },
     "output_type": "display_data"
    }
   ],
   "source": [
    "print(\"Smokers      :\", train_data['smoker'].value_counts()[1])\n",
    "print(\"Non-Smokers  :\", train_data['smoker'].value_counts()[0])\n",
    "\n",
    "plt.figure(figsize=(10,5))\n",
    "sns.countplot(train_data['smoker'])\n",
    "plt.title(\"Fumantes\", fontsize=20)\n",
    "plt.show();"
   ]
  },
  {
   "cell_type": "code",
   "execution_count": 18,
   "metadata": {},
   "outputs": [
    {
     "data": {
      "text/plain": [
       "southeast    1021\n",
       "northwest     911\n",
       "southwest     850\n",
       "northeast     848\n",
       "Name: region, dtype: int64"
      ]
     },
     "execution_count": 18,
     "metadata": {},
     "output_type": "execute_result"
    }
   ],
   "source": [
    "train_data['region'].value_counts()"
   ]
  },
  {
   "cell_type": "code",
   "execution_count": 19,
   "metadata": {},
   "outputs": [
    {
     "name": "stderr",
     "output_type": "stream",
     "text": [
      "e:\\GITHUB\\datascience\\Health_Insurance_Cost\\virtual\\lib\\site-packages\\seaborn\\_decorators.py:36: FutureWarning: Pass the following variable as a keyword arg: x. From version 0.12, the only valid positional argument will be `data`, and passing other arguments without an explicit keyword will result in an error or misinterpretation.\n",
      "  warnings.warn(\n"
     ]
    },
    {
     "data": {
      "image/png": "[encoded data removed]",
      "text/plain": [
       "<Figure size 720x360 with 1 Axes>"
      ]
     },
     "metadata": {
      "needs_background": "light"
     },
     "output_type": "display_data"
    }
   ],
   "source": [
    "plt.figure(figsize=(10,5))\n",
    "sns.countplot(train_data['region'])\n",
    "plt.title(\"Regiões\", fontsize=20)\n",
    "plt.show();"
   ]
  },
  {
   "cell_type": "markdown",
   "metadata": {},
   "source": [
    "*** VISUALIZAÇÃO NO SWEETVIZ ***"
   ]
  },
  {
   "cell_type": "code",
   "execution_count": 20,
   "metadata": {},
   "outputs": [
    {
     "name": "stderr",
     "output_type": "stream",
     "text": [
      "Done! Use 'show' commands to display/save.   |██████████| [100%]   00:00 -> (00:00 left)\n"
     ]
    },
    {
     "name": "stdout",
     "output_type": "stream",
     "text": [
      "Report SWEETVIZ_REPORT.html was generated! NOTEBOOK/COLAB USERS: the web browser MAY not pop up, regardless, the report IS saved in your notebook/colab files.\n"
     ]
    }
   ],
   "source": [
    "my_report = sv.analyze(train_data)\n",
    "my_report.show_html() # Default arguments will generate to \"SWEETVIZ_REPORT.html\"\n",
    "# my_report.show_notebook(  w=None, \n",
    "#                 h=None, \n",
    "#                 scale=None,\n",
    "#                 layout='widescreen',\n",
    "#                 filepath=None)"
   ]
  },
  {
   "cell_type": "markdown",
   "metadata": {},
   "source": [
    "*** PRÈ PROCESSAMENTO DOS DADOS ***"
   ]
  },
  {
   "cell_type": "code",
   "execution_count": 21,
   "metadata": {},
   "outputs": [
    {
     "data": {
      "text/html": [
       "<div>\n",
       "<style scoped>\n",
       "    .dataframe tbody tr th:only-of-type {\n",
       "        vertical-align: middle;\n",
       "    }\n",
       "\n",
       "    .dataframe tbody tr th {\n",
       "        vertical-align: top;\n",
       "    }\n",
       "\n",
       "    .dataframe thead th {\n",
       "        text-align: right;\n",
       "    }\n",
       "</style>\n",
       "<table border=\"1\" class=\"dataframe\">\n",
       "  <thead>\n",
       "    <tr style=\"text-align: right;\">\n",
       "      <th></th>\n",
       "      <th>age</th>\n",
       "      <th>sex</th>\n",
       "      <th>bmi</th>\n",
       "      <th>smoker</th>\n",
       "      <th>region</th>\n",
       "      <th>children</th>\n",
       "      <th>charges</th>\n",
       "    </tr>\n",
       "  </thead>\n",
       "  <tbody>\n",
       "    <tr>\n",
       "      <th>0</th>\n",
       "      <td>21.0</td>\n",
       "      <td>male</td>\n",
       "      <td>25.745000</td>\n",
       "      <td>no</td>\n",
       "      <td>northeast</td>\n",
       "      <td>2</td>\n",
       "      <td>3279.868550</td>\n",
       "    </tr>\n",
       "    <tr>\n",
       "      <th>1</th>\n",
       "      <td>37.0</td>\n",
       "      <td>female</td>\n",
       "      <td>25.744165</td>\n",
       "      <td>yes</td>\n",
       "      <td>southeast</td>\n",
       "      <td>3</td>\n",
       "      <td>21454.494239</td>\n",
       "    </tr>\n",
       "    <tr>\n",
       "      <th>2</th>\n",
       "      <td>18.0</td>\n",
       "      <td>male</td>\n",
       "      <td>30.030000</td>\n",
       "      <td>no</td>\n",
       "      <td>southeast</td>\n",
       "      <td>1</td>\n",
       "      <td>1720.353700</td>\n",
       "    </tr>\n",
       "    <tr>\n",
       "      <th>3</th>\n",
       "      <td>37.0</td>\n",
       "      <td>male</td>\n",
       "      <td>30.676891</td>\n",
       "      <td>no</td>\n",
       "      <td>northeast</td>\n",
       "      <td>3</td>\n",
       "      <td>6801.437542</td>\n",
       "    </tr>\n",
       "    <tr>\n",
       "      <th>4</th>\n",
       "      <td>58.0</td>\n",
       "      <td>male</td>\n",
       "      <td>32.010000</td>\n",
       "      <td>no</td>\n",
       "      <td>southeast</td>\n",
       "      <td>1</td>\n",
       "      <td>11946.625900</td>\n",
       "    </tr>\n",
       "  </tbody>\n",
       "</table>\n",
       "</div>"
      ],
      "text/plain": [
       "    age     sex        bmi smoker     region  children       charges\n",
       "0  21.0    male  25.745000     no  northeast         2   3279.868550\n",
       "1  37.0  female  25.744165    yes  southeast         3  21454.494239\n",
       "2  18.0    male  30.030000     no  southeast         1   1720.353700\n",
       "3  37.0    male  30.676891     no  northeast         3   6801.437542\n",
       "4  58.0    male  32.010000     no  southeast         1  11946.625900"
      ]
     },
     "execution_count": 21,
     "metadata": {},
     "output_type": "execute_result"
    }
   ],
   "source": [
    "#Arredondar a variável Age\n",
    "train_data['age'] = round(train_data['age'])\n",
    "\n",
    "#Visualizando\n",
    "train_data.head()"
   ]
  },
  {
   "cell_type": "code",
   "execution_count": 22,
   "metadata": {},
   "outputs": [
    {
     "data": {
      "text/html": [
       "<div>\n",
       "<style scoped>\n",
       "    .dataframe tbody tr th:only-of-type {\n",
       "        vertical-align: middle;\n",
       "    }\n",
       "\n",
       "    .dataframe tbody tr th {\n",
       "        vertical-align: top;\n",
       "    }\n",
       "\n",
       "    .dataframe thead th {\n",
       "        text-align: right;\n",
       "    }\n",
       "</style>\n",
       "<table border=\"1\" class=\"dataframe\">\n",
       "  <thead>\n",
       "    <tr style=\"text-align: right;\">\n",
       "      <th></th>\n",
       "      <th>age</th>\n",
       "      <th>bmi</th>\n",
       "      <th>children</th>\n",
       "      <th>charges</th>\n",
       "      <th>sex_male</th>\n",
       "      <th>smoker_yes</th>\n",
       "      <th>region_northwest</th>\n",
       "      <th>region_southeast</th>\n",
       "      <th>region_southwest</th>\n",
       "    </tr>\n",
       "  </thead>\n",
       "  <tbody>\n",
       "    <tr>\n",
       "      <th>0</th>\n",
       "      <td>21.0</td>\n",
       "      <td>25.745000</td>\n",
       "      <td>2</td>\n",
       "      <td>3279.868550</td>\n",
       "      <td>1</td>\n",
       "      <td>0</td>\n",
       "      <td>0</td>\n",
       "      <td>0</td>\n",
       "      <td>0</td>\n",
       "    </tr>\n",
       "    <tr>\n",
       "      <th>1</th>\n",
       "      <td>37.0</td>\n",
       "      <td>25.744165</td>\n",
       "      <td>3</td>\n",
       "      <td>21454.494239</td>\n",
       "      <td>0</td>\n",
       "      <td>1</td>\n",
       "      <td>0</td>\n",
       "      <td>1</td>\n",
       "      <td>0</td>\n",
       "    </tr>\n",
       "    <tr>\n",
       "      <th>2</th>\n",
       "      <td>18.0</td>\n",
       "      <td>30.030000</td>\n",
       "      <td>1</td>\n",
       "      <td>1720.353700</td>\n",
       "      <td>1</td>\n",
       "      <td>0</td>\n",
       "      <td>0</td>\n",
       "      <td>1</td>\n",
       "      <td>0</td>\n",
       "    </tr>\n",
       "    <tr>\n",
       "      <th>3</th>\n",
       "      <td>37.0</td>\n",
       "      <td>30.676891</td>\n",
       "      <td>3</td>\n",
       "      <td>6801.437542</td>\n",
       "      <td>1</td>\n",
       "      <td>0</td>\n",
       "      <td>0</td>\n",
       "      <td>0</td>\n",
       "      <td>0</td>\n",
       "    </tr>\n",
       "    <tr>\n",
       "      <th>4</th>\n",
       "      <td>58.0</td>\n",
       "      <td>32.010000</td>\n",
       "      <td>1</td>\n",
       "      <td>11946.625900</td>\n",
       "      <td>1</td>\n",
       "      <td>0</td>\n",
       "      <td>0</td>\n",
       "      <td>1</td>\n",
       "      <td>0</td>\n",
       "    </tr>\n",
       "  </tbody>\n",
       "</table>\n",
       "</div>"
      ],
      "text/plain": [
       "    age        bmi  children       charges  sex_male  smoker_yes  \\\n",
       "0  21.0  25.745000         2   3279.868550         1           0   \n",
       "1  37.0  25.744165         3  21454.494239         0           1   \n",
       "2  18.0  30.030000         1   1720.353700         1           0   \n",
       "3  37.0  30.676891         3   6801.437542         1           0   \n",
       "4  58.0  32.010000         1  11946.625900         1           0   \n",
       "\n",
       "   region_northwest  region_southeast  region_southwest  \n",
       "0                 0                 0                 0  \n",
       "1                 0                 1                 0  \n",
       "2                 0                 1                 0  \n",
       "3                 0                 0                 0  \n",
       "4                 0                 1                 0  "
      ]
     },
     "execution_count": 22,
     "metadata": {},
     "output_type": "execute_result"
    }
   ],
   "source": [
    "#OHEncoding - Transformar as variáveis em numéricas\n",
    "\n",
    "train_data = pd.get_dummies(train_data, drop_first=True)\n",
    "\n",
    "#Visualizando\n",
    "train_data.head()\n"
   ]
  },
  {
   "cell_type": "code",
   "execution_count": 23,
   "metadata": {},
   "outputs": [
    {
     "data": {
      "text/plain": [
       "Index(['age', 'bmi', 'children', 'charges', 'sex_male', 'smoker_yes',\n",
       "       'region_northwest', 'region_southeast', 'region_southwest'],\n",
       "      dtype='object')"
      ]
     },
     "execution_count": 23,
     "metadata": {},
     "output_type": "execute_result"
    }
   ],
   "source": [
    "train_data.columns"
   ]
  },
  {
   "cell_type": "code",
   "execution_count": 24,
   "metadata": {},
   "outputs": [
    {
     "data": {
      "text/html": [
       "<div>\n",
       "<style scoped>\n",
       "    .dataframe tbody tr th:only-of-type {\n",
       "        vertical-align: middle;\n",
       "    }\n",
       "\n",
       "    .dataframe tbody tr th {\n",
       "        vertical-align: top;\n",
       "    }\n",
       "\n",
       "    .dataframe thead th {\n",
       "        text-align: right;\n",
       "    }\n",
       "</style>\n",
       "<table border=\"1\" class=\"dataframe\">\n",
       "  <thead>\n",
       "    <tr style=\"text-align: right;\">\n",
       "      <th></th>\n",
       "      <th>age</th>\n",
       "      <th>bmi</th>\n",
       "      <th>children</th>\n",
       "      <th>sex_male</th>\n",
       "      <th>smoker_yes</th>\n",
       "      <th>region_northwest</th>\n",
       "      <th>region_southeast</th>\n",
       "      <th>region_southwest</th>\n",
       "      <th>charges</th>\n",
       "    </tr>\n",
       "  </thead>\n",
       "  <tbody>\n",
       "    <tr>\n",
       "      <th>0</th>\n",
       "      <td>21.0</td>\n",
       "      <td>25.745000</td>\n",
       "      <td>2</td>\n",
       "      <td>1</td>\n",
       "      <td>0</td>\n",
       "      <td>0</td>\n",
       "      <td>0</td>\n",
       "      <td>0</td>\n",
       "      <td>3279.868550</td>\n",
       "    </tr>\n",
       "    <tr>\n",
       "      <th>1</th>\n",
       "      <td>37.0</td>\n",
       "      <td>25.744165</td>\n",
       "      <td>3</td>\n",
       "      <td>0</td>\n",
       "      <td>1</td>\n",
       "      <td>0</td>\n",
       "      <td>1</td>\n",
       "      <td>0</td>\n",
       "      <td>21454.494239</td>\n",
       "    </tr>\n",
       "    <tr>\n",
       "      <th>2</th>\n",
       "      <td>18.0</td>\n",
       "      <td>30.030000</td>\n",
       "      <td>1</td>\n",
       "      <td>1</td>\n",
       "      <td>0</td>\n",
       "      <td>0</td>\n",
       "      <td>1</td>\n",
       "      <td>0</td>\n",
       "      <td>1720.353700</td>\n",
       "    </tr>\n",
       "    <tr>\n",
       "      <th>3</th>\n",
       "      <td>37.0</td>\n",
       "      <td>30.676891</td>\n",
       "      <td>3</td>\n",
       "      <td>1</td>\n",
       "      <td>0</td>\n",
       "      <td>0</td>\n",
       "      <td>0</td>\n",
       "      <td>0</td>\n",
       "      <td>6801.437542</td>\n",
       "    </tr>\n",
       "    <tr>\n",
       "      <th>4</th>\n",
       "      <td>58.0</td>\n",
       "      <td>32.010000</td>\n",
       "      <td>1</td>\n",
       "      <td>1</td>\n",
       "      <td>0</td>\n",
       "      <td>0</td>\n",
       "      <td>1</td>\n",
       "      <td>0</td>\n",
       "      <td>11946.625900</td>\n",
       "    </tr>\n",
       "  </tbody>\n",
       "</table>\n",
       "</div>"
      ],
      "text/plain": [
       "    age        bmi  children  sex_male  smoker_yes  region_northwest  \\\n",
       "0  21.0  25.745000         2         1           0                 0   \n",
       "1  37.0  25.744165         3         0           1                 0   \n",
       "2  18.0  30.030000         1         1           0                 0   \n",
       "3  37.0  30.676891         3         1           0                 0   \n",
       "4  58.0  32.010000         1         1           0                 0   \n",
       "\n",
       "   region_southeast  region_southwest       charges  \n",
       "0                 0                 0   3279.868550  \n",
       "1                 1                 0  21454.494239  \n",
       "2                 1                 0   1720.353700  \n",
       "3                 0                 0   6801.437542  \n",
       "4                 1                 0  11946.625900  "
      ]
     },
     "execution_count": 24,
     "metadata": {},
     "output_type": "execute_result"
    }
   ],
   "source": [
    "#Rearranging Columns to separate \"cahrges\" to the end of table.\n",
    "\n",
    "train_data = train_data[['age', 'bmi', 'children', 'sex_male', 'smoker_yes',\n",
    "       'region_northwest', 'region_southeast', 'region_southwest', 'charges']]\n",
    "\n",
    "#Visualizando\n",
    "\n",
    "train_data.head()       "
   ]
  },
  {
   "cell_type": "code",
   "execution_count": 25,
   "metadata": {},
   "outputs": [],
   "source": [
    "#Splitting Independent & Dependent Feature\n",
    "\n",
    "x = train_data.iloc[: ,:-1] # Pega todas as linhas menos sem a última coluna (São os dados de teste sem o resultado)\n",
    "                            # São as Independent Features\n",
    "y = train_data.iloc[: , -1] # Pega todas as linhas apenas da última coluna (São apenas o resultado que será utilizado para testar a acurácia do modelo)\n",
    "                            # São as Dependent Features"
   ]
  },
  {
   "cell_type": "code",
   "execution_count": 26,
   "metadata": {},
   "outputs": [
    {
     "data": {
      "text/html": [
       "<div>\n",
       "<style scoped>\n",
       "    .dataframe tbody tr th:only-of-type {\n",
       "        vertical-align: middle;\n",
       "    }\n",
       "\n",
       "    .dataframe tbody tr th {\n",
       "        vertical-align: top;\n",
       "    }\n",
       "\n",
       "    .dataframe thead th {\n",
       "        text-align: right;\n",
       "    }\n",
       "</style>\n",
       "<table border=\"1\" class=\"dataframe\">\n",
       "  <thead>\n",
       "    <tr style=\"text-align: right;\">\n",
       "      <th></th>\n",
       "      <th>age</th>\n",
       "      <th>bmi</th>\n",
       "      <th>children</th>\n",
       "      <th>sex_male</th>\n",
       "      <th>smoker_yes</th>\n",
       "      <th>region_northwest</th>\n",
       "      <th>region_southeast</th>\n",
       "      <th>region_southwest</th>\n",
       "    </tr>\n",
       "  </thead>\n",
       "  <tbody>\n",
       "    <tr>\n",
       "      <th>0</th>\n",
       "      <td>21.0</td>\n",
       "      <td>25.745000</td>\n",
       "      <td>2</td>\n",
       "      <td>1</td>\n",
       "      <td>0</td>\n",
       "      <td>0</td>\n",
       "      <td>0</td>\n",
       "      <td>0</td>\n",
       "    </tr>\n",
       "    <tr>\n",
       "      <th>1</th>\n",
       "      <td>37.0</td>\n",
       "      <td>25.744165</td>\n",
       "      <td>3</td>\n",
       "      <td>0</td>\n",
       "      <td>1</td>\n",
       "      <td>0</td>\n",
       "      <td>1</td>\n",
       "      <td>0</td>\n",
       "    </tr>\n",
       "  </tbody>\n",
       "</table>\n",
       "</div>"
      ],
      "text/plain": [
       "    age        bmi  children  sex_male  smoker_yes  region_northwest  \\\n",
       "0  21.0  25.745000         2         1           0                 0   \n",
       "1  37.0  25.744165         3         0           1                 0   \n",
       "\n",
       "   region_southeast  region_southwest  \n",
       "0                 0                 0  \n",
       "1                 1                 0  "
      ]
     },
     "execution_count": 26,
     "metadata": {},
     "output_type": "execute_result"
    }
   ],
   "source": [
    "#Visualizando as features independentes\n",
    "x.head(2)\n"
   ]
  },
  {
   "cell_type": "code",
   "execution_count": 27,
   "metadata": {},
   "outputs": [
    {
     "data": {
      "text/plain": [
       "0     3279.868550\n",
       "1    21454.494239\n",
       "Name: charges, dtype: float64"
      ]
     },
     "execution_count": 27,
     "metadata": {},
     "output_type": "execute_result"
    }
   ],
   "source": [
    "#Visualizando as features dependentes\n",
    "y.head(2)\n"
   ]
  },
  {
   "cell_type": "code",
   "execution_count": 28,
   "metadata": {},
   "outputs": [],
   "source": [
    "#Train test Split\n",
    "from sklearn.model_selection import train_test_split\n",
    "x_train, x_test, y_train, y_test = train_test_split(x,y, test_size=0.2, random_state=0)\n"
   ]
  },
  {
   "cell_type": "markdown",
   "metadata": {},
   "source": [
    "*** CONSTRUÇÃO E AVALIAÇÃO DA MAQUINA PREDITIVA ***\n",
    "A Máquina Preditiva é a metodologia que será utilizada para previsão do custo do plano de saúde."
   ]
  },
  {
   "cell_type": "code",
   "execution_count": 29,
   "metadata": {},
   "outputs": [],
   "source": [
    "#Importando Métrica de Avaliação\n",
    "from sklearn.metrics import mean_squared_error, r2_score\n"
   ]
  },
  {
   "cell_type": "markdown",
   "metadata": {},
   "source": [
    "*** MP COM REGRESSÃO LINEAR ***"
   ]
  },
  {
   "cell_type": "code",
   "execution_count": 30,
   "metadata": {},
   "outputs": [
    {
     "name": "stdout",
     "output_type": "stream",
     "text": [
      "74.82602892322036\n",
      "30898859.035960793\n"
     ]
    }
   ],
   "source": [
    "#Linear Regression\n",
    "from sklearn.linear_model import LinearRegression\n",
    "LinearRegression = LinearRegression()\n",
    "LinearRegression = LinearRegression.fit(x_train, y_train)\n",
    "\n",
    "#Prediction\n",
    "y_pred = LinearRegression.predict(x_test)\n",
    "\n",
    "#Scores\n",
    "print(r2_score(y_test, y_pred)*100)\n",
    "print(mean_squared_error(y_test, y_pred))"
   ]
  },
  {
   "cell_type": "markdown",
   "metadata": {},
   "source": [
    "*** MP COM REGRESSÃO RIDGE ***"
   ]
  },
  {
   "cell_type": "code",
   "execution_count": 31,
   "metadata": {},
   "outputs": [
    {
     "name": "stdout",
     "output_type": "stream",
     "text": [
      "74.81028884319252\n",
      "30918178.614604626\n"
     ]
    }
   ],
   "source": [
    "from sklearn.linear_model import Ridge\n",
    "Ridge = Ridge()\n",
    "Ridge = Ridge.fit(x_train, y_train)\n",
    "\n",
    "#Prediction\n",
    "y_pred = Ridge.predict(x_test)\n",
    "\n",
    "#Scores\n",
    "print(r2_score(y_test, y_pred)*100)\n",
    "print(mean_squared_error(y_test, y_pred))"
   ]
  },
  {
   "cell_type": "markdown",
   "metadata": {},
   "source": [
    "*** MP COM REGRESSÃO LASSO ***"
   ]
  },
  {
   "cell_type": "code",
   "execution_count": 32,
   "metadata": {},
   "outputs": [
    {
     "name": "stdout",
     "output_type": "stream",
     "text": [
      "74.8226977813626\n",
      "30902947.722738817\n"
     ]
    }
   ],
   "source": [
    "from sklearn.linear_model import Lasso\n",
    "Lasso = Lasso()\n",
    "Lasso = Lasso.fit(x_train, y_train)\n",
    "\n",
    "#Prediction\n",
    "y_pred = Lasso.predict(x_test)\n",
    "\n",
    "#Scores\n",
    "print(r2_score(y_test, y_pred)*100)\n",
    "print(mean_squared_error(y_test, y_pred))"
   ]
  },
  {
   "cell_type": "markdown",
   "metadata": {},
   "source": [
    "*** MP COM RANDOM FOREST ***"
   ]
  },
  {
   "cell_type": "code",
   "execution_count": 33,
   "metadata": {},
   "outputs": [
    {
     "name": "stdout",
     "output_type": "stream",
     "text": [
      "90.77059225888189\n",
      "11328294.924484963\n"
     ]
    }
   ],
   "source": [
    "#Random Forest Regression\n",
    "from sklearn.ensemble import RandomForestRegressor\n",
    "RandomForestRegressor = RandomForestRegressor()\n",
    "RandomForestRegressor = RandomForestRegressor.fit(x_train, y_train)\n",
    "\n",
    "#Prediction\n",
    "y_pred = RandomForestRegressor.predict(x_test)\n",
    "\n",
    "#Scores\n",
    "print(r2_score(y_test, y_pred)*100)\n",
    "print(mean_squared_error(y_test, y_pred))"
   ]
  },
  {
   "cell_type": "markdown",
   "metadata": {},
   "source": [
    "*** SALVAMENTO DA MÁQUINA PREDITIVA PARA DEPLOY OU IMPLEMENTAÇÃO ***"
   ]
  },
  {
   "cell_type": "code",
   "execution_count": 34,
   "metadata": {},
   "outputs": [],
   "source": [
    "#Creating a pickle file for the classifier\n",
    "import pickle\n",
    "filename = 'MedicalInsuranceCost.pkl'\n",
    "pickle.dump(RandomForestRegressor, open(filename, 'wb'))\n"
   ]
  }
 ],
 "metadata": {
  "kernelspec": {
   "display_name": "Python 3.10.5 ('virtual': venv)",
   "language": "python",
   "name": "python3"
  },
  "language_info": {
   "codemirror_mode": {
    "name": "ipython",
    "version": 3
   },
   "file_extension": ".py",
   "mimetype": "text/x-python",
   "name": "python",
   "nbconvert_exporter": "python",
   "pygments_lexer": "ipython3",
   "version": "3.10.5"
  },
  "orig_nbformat": 4,
  "vscode": {
   "interpreter": {
    "hash": "58df498c382df8025fdf1bcd5ee5f4fa5c8b24d23f98885278ebebce4007afbc"
   }
  }
 },
 "nbformat": 4,
 "nbformat_minor": 2
}
